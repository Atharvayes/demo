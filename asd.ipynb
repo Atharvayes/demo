{
  "nbformat": 4,
  "nbformat_minor": 0,
  "metadata": {
    "colab": {
      "provenance": [],
      "authorship_tag": "ABX9TyOhqgFAE7yR850oaccCkg2d",
      "include_colab_link": true
    },
    "kernelspec": {
      "name": "python3",
      "display_name": "Python 3"
    },
    "language_info": {
      "name": "python"
    }
  },
  "cells": [
    {
      "cell_type": "markdown",
      "metadata": {
        "id": "view-in-github",
        "colab_type": "text"
      },
      "source": [
        "<a href=\"https://colab.research.google.com/github/Atharvayes/demo/blob/main/asd.ipynb\" target=\"_parent\"><img src=\"https://colab.research.google.com/assets/colab-badge.svg\" alt=\"Open In Colab\"/></a>"
      ]
    },
    {
      "cell_type": "code",
      "execution_count": null,
      "metadata": {
        "id": "i9dH3Mbi5j78"
      },
      "outputs": [],
      "source": [
        "import streamlit as st\n",
        "import time\n",
        "\n",
        "st.title(\"📓 QUIZ\")\n",
        "st.subheader(\"Questions\")\n",
        "\n",
        "# Define multiple sets of questions with correct answers\n",
        "question_sets = [\n",
        "    [\n",
        "        {\"question\": \"Choose an answer for question 1.1\", \"options\": [\"Option 1.1.1\", \"Option 1.1.2\", \"Option 1.1.3\"], \"answer\": \"Option 1.1.2\"},\n",
        "        {\"question\": \"Choose an answer for question 1.2\", \"options\": [\"Option 1.2.1\", \"Option 1.2.2\", \"Option 1.2.3\"], \"answer\": \"Option 1.2.1\"},\n",
        "        {\"question\": \"Choose an answer for question 1.3\", \"options\": [\"Option 1.3.1\", \"Option 1.3.2\", \"Option 1.3.3\"], \"answer\": \"Option 1.3.3\"}\n",
        "    ],\n",
        "    [\n",
        "        {\"question\": \"Choose an answer for question 2.1\", \"options\": [\"Option 2.1.1\", \"Option 2.1.2\", \"Option 2.1.3\"], \"answer\": \"Option 2.1.3\"},\n",
        "        {\"question\": \"Choose an answer for question 2.2\", \"options\": [\"Option 2.2.1\", \"Option 2.2.2\", \"Option 2.2.3\"], \"answer\": \"Option 2.2.2\"},\n",
        "        {\"question\": \"Choose an answer for question 2.3\", \"options\": [\"Option 2.3.1\", \"Option 2.3.2\", \"Option 2.3.3\"], \"answer\": \"Option 2.3.1\"}\n",
        "    ]\n",
        "]\n",
        "\n",
        "# Define classification criteria based on response time and correctness\n",
        "def classify_learning_preference(correctness, response_time):\n",
        "    if response_time <= 10:\n",
        "        if correctness >= 2:\n",
        "            return \"Kinesthetic Learner\"\n",
        "        else:\n",
        "            return \"Social (Interpersonal) Learner\"\n",
        "    elif response_time <= 20:\n",
        "        if correctness >= 2:\n",
        "            return \"Auditory Learner\" if correctness == 2 else \"Reading/Writing Learner\"\n",
        "        else:\n",
        "            return \"Multimodal Learner\"\n",
        "    else:\n",
        "        if correctness >= 2:\n",
        "            return \"Visual Learner\" if correctness == 2 else \"Logical (Mathematical) Learner\"\n",
        "        else:\n",
        "            return \"Solitary (Intrapersonal) Learner\"\n",
        "\n",
        "# Initialize session state to keep track of the current question set and start time\n",
        "if 'current_question_set' not in st.session_state:\n",
        "    st.session_state.current_question_set = 0\n",
        "    st.session_state.start_time = time.time()\n",
        "\n",
        "# Get the current set of questions\n",
        "questions = question_sets[st.session_state.current_question_set]\n",
        "\n",
        "# Create a form for the quiz\n",
        "form = st.form(key=\"quiz_form\")\n",
        "\n",
        "# Dictionary to store the answers\n",
        "answers = {}\n",
        "\n",
        "# Loop through the questions and create radio buttons for each\n",
        "for i, q in enumerate(questions):\n",
        "    answers[f\"q{i+1}\"] = form.radio(q[\"question\"], options=q[\"options\"])\n",
        "\n",
        "# Submit button for the form\n",
        "submitted = form.form_submit_button(\"Submit your answers\")\n",
        "\n",
        "# Display the answers and move to the next set of questions\n",
        "if submitted:\n",
        "    response_time = time.time() - st.session_state.start_time\n",
        "    correctness = sum(1 for i, q in enumerate(questions) if answers[f\"q{i+1}\"] == q[\"answer\"])\n",
        "    learning_preference = classify_learning_preference(correctness, response_time)\n",
        "\n",
        "    st.write(f\"Response time for this set: {response_time:.2f} seconds\")\n",
        "    st.write(f\"Correct answers: {correctness} out of {len(questions)}\")\n",
        "    st.write(f\"Learning preference: {learning_preference}\")\n",
        "\n",
        "    for i, q in enumerate(questions):\n",
        "        st.write(f\"Your answer for question {i+1}: {answers[f'q{i+1}']} (Correct: {q['answer']})\")\n",
        "\n",
        "    if st.session_state.current_question_set < len(question_sets) - 1:\n",
        "        st.session_state.current_question_set += 1\n",
        "        st.session_state.start_time = time.time()  # Reset the start time for the next set\n",
        "        st.experimental_rerun()  # Rerun the app to load the next set of questions\n",
        "    else:\n",
        "        st.write(\"No more questions available.\")\n"
      ]
    }
  ]
}